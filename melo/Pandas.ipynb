{
 "cells": [
  {
   "cell_type": "code",
   "execution_count": 1,
   "id": "9f017974",
   "metadata": {},
   "outputs": [
    {
     "name": "stdout",
     "output_type": "stream",
     "text": [
      "     sepal_length  sepal_width  petal_length  petal_width    species\n",
      "0             5.1          3.5           1.4          0.2         se\n",
      "1             4.9          3.0           1.4          0.2     setosa\n",
      "2             4.7          3.2           1.3          0.2     setosa\n",
      "3             4.6          3.1           1.5          0.2     setosa\n",
      "4             5.0          3.6           1.4          0.2     setosa\n",
      "..            ...          ...           ...          ...        ...\n",
      "145           6.7          3.0           5.2          2.3  virginica\n",
      "146           6.3          2.5           5.0          1.9  virginica\n",
      "147           6.5          3.0           5.2          2.0  virginica\n",
      "148           6.2          3.4           5.4          2.3  virginica\n",
      "149           5.9          3.0           5.1          1.8  virginica\n",
      "\n",
      "[150 rows x 5 columns]\n"
     ]
    }
   ],
   "source": [
    "#Leitura de um arquivo csv \n",
    "\n",
    "import pandas as pd #Importa o Pandas\n",
    "csv_df = pd.read_csv('iris.csv') #Lê um arquivo csv e associa a variavel df\n",
    "print(csv_df) #Printa a variável df/tabela\n"
   ]
  },
  {
   "cell_type": "code",
   "execution_count": 12,
   "id": "d2de38ae",
   "metadata": {},
   "outputs": [
    {
     "name": "stdout",
     "output_type": "stream",
     "text": [
      "(150, 5)\n"
     ]
    }
   ],
   "source": [
    "#df.hape mostra as dimensões da tabela\n",
    "csv_df = pd.read_csv('iris.csv')\n",
    "print(csv_df.shape)"
   ]
  },
  {
   "cell_type": "code",
   "execution_count": 13,
   "id": "0521aaaa",
   "metadata": {},
   "outputs": [
    {
     "name": "stdout",
     "output_type": "stream",
     "text": [
      "       sepal_length  sepal_width  petal_length  petal_width\n",
      "count    150.000000   150.000000    150.000000   150.000000\n",
      "mean       5.843333     3.054000      3.758667     1.198667\n",
      "std        0.828066     0.433594      1.764420     0.763161\n",
      "min        4.300000     2.000000      1.000000     0.100000\n",
      "25%        5.100000     2.800000      1.600000     0.300000\n",
      "50%        5.800000     3.000000      4.350000     1.300000\n",
      "75%        6.400000     3.300000      5.100000     1.800000\n",
      "max        7.900000     4.400000      6.900000     2.500000\n"
     ]
    }
   ],
   "source": [
    "#df.describe() mostra algumas propriedades matematicas da tabela, como media, \n",
    "# mediana, valor max, min etc\n",
    "csv_df = pd.read_csv('iris.csv')\n",
    "print(csv_df.describe())"
   ]
  },
  {
   "cell_type": "code",
   "execution_count": 14,
   "id": "482ee0d7",
   "metadata": {},
   "outputs": [
    {
     "name": "stdout",
     "output_type": "stream",
     "text": [
      "    sepal_length species\n",
      "0            5.1      se\n",
      "1            4.9  setosa\n",
      "2            4.7  setosa\n",
      "3            4.6  setosa\n",
      "4            5.0  setosa\n",
      "5            5.4  setosa\n",
      "6            4.6  setosa\n",
      "7            5.0  setosa\n",
      "8            4.4  setosa\n",
      "9            4.9  setosa\n",
      "10           5.4  setosa\n",
      "11           4.8  setosa\n"
     ]
    }
   ],
   "source": [
    "#o parâmetro usecols = ['Coluna a', 'Coluna b', ..., 'Coluna n'] determina/mostra apenas\n",
    "#  as colunas de interesse\n",
    "#df.head(x) mostra as primeiras x linhas da tabela \n",
    "\n",
    "csv_df = pd.read_csv('iris.csv', usecols = ['sepal_length', 'species']) \n",
    "print(csv_df.head(12))"
   ]
  },
  {
   "cell_type": "code",
   "execution_count": 15,
   "id": "c02acede",
   "metadata": {},
   "outputs": [
    {
     "name": "stdout",
     "output_type": "stream",
     "text": [
      "                      Empreendimento  UF    Origem Entrada em Operação  \\\n",
      "0                        14 de Julho  RS   Hídrica          25/12/2008   \n",
      "1                      29 de Outubro  SC    Fóssil          07/10/2008   \n",
      "2                      3 Tentos Ijuí  RS  Biomassa          15/03/2022   \n",
      "3                      300KVA SCANIA  MG    Fóssil          01/06/2013   \n",
      "4                    3M Itapetininga  SP    Fóssil          12/06/2002   \n",
      "...                              ...  ..       ...                 ...   \n",
      "19809             Zucoloto Suimartin  ES  Biomassa          30/05/2020   \n",
      "19810       Zuleide Dos Santos Matos  PA     Solar          24/02/2022   \n",
      "19811          Zuleide Lisboa Vieira  PA     Solar          30/09/2021   \n",
      "19812  Zulmira Azevedo do Nascimento  PA     Solar          29/01/2021   \n",
      "19813      Zumira Feitosa Dos Santos  PA     Solar          30/10/2017   \n",
      "\n",
      "       Outorgada  Fiscalizada  \n",
      "0       100000.0     100000.0  \n",
      "1           62.0         62.0  \n",
      "2         5500.0       5500.0  \n",
      "3          240.0        240.0  \n",
      "4         3840.0       3840.0  \n",
      "...          ...          ...  \n",
      "19809      150.0        150.0  \n",
      "19810        1.0          1.0  \n",
      "19811        1.0          1.0  \n",
      "19812        1.0          1.0  \n",
      "19813        1.0          1.0  \n",
      "\n",
      "[19814 rows x 6 columns]\n"
     ]
    }
   ],
   "source": [
    "#Leitura de arquivo excel\n",
    "\n",
    "geracao_df = pd.read_excel('Geracao.xlsx') \n",
    "#Lê um arquivo excel e associa a variavel df\n",
    "print(geracao_df) #Printa a variável df/tabela"
   ]
  },
  {
   "cell_type": "code",
   "execution_count": 16,
   "id": "607f00dd",
   "metadata": {},
   "outputs": [
    {
     "name": "stdout",
     "output_type": "stream",
     "text": [
      "             Nome Idade Numero Usp Ano de ingresso\n",
      "0  Gabriel Valizi    22   118004xx            2020\n",
      "1   Matheus Vivas    20   118577xx            2020\n",
      "2   Vinícius Melo    22   108450xx            2018\n"
     ]
    }
   ],
   "source": [
    "#Criação de tabela a partir de lista predeterminada\n",
    "\n",
    "#Cria-se uma lista com dados fornecidos\n",
    "#Associa-se às colunas os seus respectivos elementos\n",
    "\n",
    "import pandas as pd\n",
    "\n",
    "alunos = {\n",
    "'Nome':['Gabriel Valizi','Matheus Vivas','Vinícius Melo'],\n",
    "'Idade':['22','20','22'],\n",
    "'Numero Usp':['118004xx','118577xx','108450xx'],\n",
    "'Ano de ingresso':['2020','2020','2018']    \n",
    "}\n",
    "df = pd.DataFrame(alunos) #O comando pd.DataFrame organiza os dados em uma tabela \n",
    "print(df)"
   ]
  },
  {
   "cell_type": "code",
   "execution_count": 17,
   "id": "03ae76c9",
   "metadata": {},
   "outputs": [
    {
     "name": "stdout",
     "output_type": "stream",
     "text": [
      "             Nome  Idade Numero Usp   Ano\n",
      "0  Gabriel Valizi     22   118004xx  2020\n",
      "2   Vinícius Melo     22   108450xx  2018\n",
      "-----------\n",
      "             Nome  Idade Numero Usp   Ano\n",
      "0  Gabriel Valizi     22   118004xx  2020\n",
      "1   Matheus Vivas     20   118577xx  2020\n",
      "2   Vinícius Melo     22   108450xx  2018\n",
      "-----------\n",
      "             Nome   Ano\n",
      "0  Gabriel Valizi  2020\n",
      "1   Matheus Vivas  2020\n",
      "2   Vinícius Melo  2018\n",
      "-----------\n",
      "             Nome  Idade Numero Usp   Ano\n",
      "0  Gabriel Valizi     22   118004xx  2020\n",
      "1   Matheus Vivas     20   118577xx  2020\n",
      "-----------\n",
      "             Nome  Idade Numero Usp   Ano\n",
      "0  Gabriel Valizi     22   118004xx  2020\n"
     ]
    }
   ],
   "source": [
    "#Função LOC\n",
    "\n",
    "alunos = {\n",
    "'Nome':['Gabriel Valizi','Matheus Vivas','Vinícius Melo'],\n",
    "'Idade':[22,20,22],\n",
    "'Numero Usp':['118004xx','118577xx','108450xx'],\n",
    "'Ano':[2020,2020,2018]    \n",
    "}\n",
    "df = pd.DataFrame(alunos)    \n",
    "\n",
    "df1 = df.loc[[0,2]] #Seleciona as LINHAS 0 e 2\n",
    "print(df1)\n",
    "print(\"-----------\")\n",
    "df2 = df.loc[0:2] #Seleciona as LINHAS de 0 a 2\n",
    "print(df2)\n",
    "print(\"-----------\")\n",
    "df3 = df.loc[0:2,['Nome','Ano']] \n",
    "#Seleciona Apenas os dados de interesse NOME/ANO DE INGRESSO\n",
    "print(df3)\n",
    "print(\"-----------\")\n",
    "df4 = df.loc[df.Ano > 2019] \n",
    "#Seleciona apenas os casos de interesse, onde ANO DE INGRESSO É POSTERIOR A 2019\n",
    "print(df4)\n",
    "print(\"-----------\")\n",
    "df5 = df.loc[(df.Ano > 2019) & (df.Idade > 20)] \n",
    "#Seleciona os alunos que ENTRARAM DEPOIS DE 2019 e TEM MAIS DE 20 ANOS\n",
    "print(df5)"
   ]
  },
  {
   "cell_type": "code",
   "execution_count": 18,
   "id": "b1ec4413",
   "metadata": {},
   "outputs": [
    {
     "name": "stdout",
     "output_type": "stream",
     "text": [
      "                                          Empreendimento  UF    Origem\n",
      "4                                        3M Itapetininga  SP    Fóssil\n",
      "5                                              3M Sumaré  SP    Fóssil\n",
      "282                                                Adria  SP    Fóssil\n",
      "336                          Aeroporto de Campo de Marte  SP    Fóssil\n",
      "348                     Aeroporto de São José dos Campos  SP    Fóssil\n",
      "...                                                  ...  ..       ...\n",
      "19721  Yara Brasil Fertilizantes (Antiga Vale Cubatão...  SP    Fóssil\n",
      "19726                                              YPE I  SP    Fóssil\n",
      "19727                           Yuni GTIS Leopoldo Green  SP    Fóssil\n",
      "19731                                              Zanin  SP  Biomassa\n",
      "19808                      Zodiac Produtos Farmacêuticos  SP     Solar\n",
      "\n",
      "[1153 rows x 3 columns]\n",
      "============================================================\n",
      "                      Empreendimento  UF Origem\n",
      "19           Abdias Barbosa da Silva  PA  Solar\n",
      "20         Abdilson Barbosa da Silva  PA  Solar\n",
      "21        Abedao Barbosa de Carvalho  PA  Solar\n",
      "22               Abedao Lobato Leite  PA  Solar\n",
      "23           Abedias Mendes da Silva  PA  Solar\n",
      "...                              ...  ..    ...\n",
      "19808  Zodiac Produtos Farmacêuticos  SP  Solar\n",
      "19810       Zuleide Dos Santos Matos  PA  Solar\n",
      "19811          Zuleide Lisboa Vieira  PA  Solar\n",
      "19812  Zulmira Azevedo do Nascimento  PA  Solar\n",
      "19813      Zumira Feitosa Dos Santos  PA  Solar\n",
      "\n",
      "[13831 rows x 3 columns]\n"
     ]
    }
   ],
   "source": [
    "#Função LOC para base de dados Excel\n",
    "df = pd.read_excel('Geracao.xlsx')\n",
    "\n",
    "#Exemplo 1: Busca-se os dados para o Estado de São Paulo\n",
    "ex1 = df.loc[df['UF']=='SP',['Empreendimento', 'UF','Origem']]\n",
    "print(ex1)\n",
    "\n",
    "print(\"============================================================\")\n",
    "\n",
    "#Exemplo 2: Busca-se os dados para a geração solar\n",
    "ex2 = df.loc[df['Origem']=='Solar',['Empreendimento', 'UF','Origem']]\n",
    "print(ex2)"
   ]
  },
  {
   "cell_type": "code",
   "execution_count": 19,
   "id": "d5f8808a",
   "metadata": {},
   "outputs": [
    {
     "name": "stdout",
     "output_type": "stream",
     "text": [
      "             Nome  Idade Numero Usp   Ano  Nascimento\n",
      "0  Gabriel Valizi     22   118004xx  2020        2000\n",
      "1   Matheus Vivas     20   118577xx  2020        2002\n",
      "2   Vinícius Melo     22   108450xx  2018        2000\n"
     ]
    }
   ],
   "source": [
    "#Adicionando uma coluna na tabela de alunos\n",
    "\n",
    "alunos = {\n",
    "'Nome':['Gabriel Valizi','Matheus Vivas','Vinícius Melo'],\n",
    "'Idade':[22,20,22],\n",
    "'Numero Usp':['118004xx','118577xx','108450xx'],\n",
    "'Ano':[2020,2020,2018]    \n",
    "}\n",
    "df = pd.DataFrame(alunos)  \n",
    "df['Nascimento'] = 2022 - df['Idade']  \n",
    "#Definir um valor para uma coluna que não existe faz com que ela seja criada\n",
    "print(df)\n"
   ]
  },
  {
   "cell_type": "code",
   "execution_count": 20,
   "id": "cb89f253",
   "metadata": {},
   "outputs": [
    {
     "name": "stdout",
     "output_type": "stream",
     "text": [
      "              Nome  Idade  Numero Usp     Ano\n",
      "0   Gabriel Valizi     22    11800400  2020.0\n",
      "1    Matheus Vivas     20    11800401  2020.0\n",
      "2    Vinicius Melo     22    11800402     NaN\n",
      "3            Alice     19    11800402  2020.0\n",
      "4           Otavio     18    11800402  2020.0\n",
      "5          Vitoria     29    11800402  2017.0\n",
      "6             José     21    11800402  2020.0\n",
      "7             João     25    11800402  2018.0\n",
      "8          Marcelo     17    11800402  2020.0\n",
      "9         Gabriela     19    11800402  2020.0\n",
      "10          Heitor     28    11800402  2017.0\n",
      "11         Leticia     25    11800402  2018.0\n",
      "12        Fernando     24    11800402  2018.0\n",
      "13         Leandro     18    11800402  2020.0\n",
      "--------------------------------------------------\n",
      "              Nome  Idade  Numero Usp     Ano\n",
      "0   Gabriel Valizi     22    11800400  2020.0\n",
      "1    Matheus Vivas     20    11800401  2020.0\n",
      "2    Vinicius Melo     22    11800402  2020.0\n",
      "3            Alice     19    11800402  2020.0\n",
      "4           Otavio     18    11800402  2020.0\n",
      "5          Vitoria     29    11800402  2017.0\n",
      "6             José     21    11800402  2020.0\n",
      "7             João     25    11800402  2018.0\n",
      "8          Marcelo     17    11800402  2020.0\n",
      "9         Gabriela     19    11800402  2020.0\n",
      "10          Heitor     28    11800402  2017.0\n",
      "11         Leticia     25    11800402  2018.0\n",
      "12        Fernando     24    11800402  2018.0\n",
      "13         Leandro     18    11800402  2020.0\n",
      "--------------------------------------------------\n"
     ]
    }
   ],
   "source": [
    "#Função fillna\n",
    "#Tratamento de dados\n",
    "\n",
    "import pandas as pd \n",
    "\n",
    "df = pd.read_excel('Alunos.xlsx') \n",
    "print(df)\n",
    "print('--------------------------------------------------')\n",
    "df[\"Ano\"].fillna(value = df['Ano'].median(), inplace = True)\n",
    "print(df)\n",
    "print('--------------------------------------------------')"
   ]
  },
  {
   "cell_type": "code",
   "execution_count": 21,
   "id": "26d0ba26",
   "metadata": {},
   "outputs": [
    {
     "name": "stdout",
     "output_type": "stream",
     "text": [
      "              Nome Idade Numero Usp   Ano\n",
      "0   Gabriel Valizi    22   118004xx  2020\n",
      "1    Matheus Vivas    20   118577xx  2020\n",
      "2    Vinícius Melo    22   108450xx  2018\n",
      "0            Alice    19   11800402  2020\n",
      "1           Otavio    18   11800402  2020\n",
      "2          Vitoria    29   11800402  2017\n",
      "3             José    21   11800402  2020\n",
      "4             João    25   11800402  2018\n",
      "5          Marcelo    17   11800402  2020\n",
      "6         Gabriela    19   11800402  2020\n",
      "7           Heitor    28   11800402  2017\n",
      "8          Leticia    25   11800402  2018\n",
      "9         Fernando    24   11800402  2018\n",
      "10         Leandro    18   11800402  2020\n"
     ]
    },
    {
     "name": "stderr",
     "output_type": "stream",
     "text": [
      "/tmp/ipykernel_3915/2681491629.py:13: FutureWarning: The frame.append method is deprecated and will be removed from pandas in a future version. Use pandas.concat instead.\n",
      "  df_1 = df_1.append(df_2) #Anexa, ao final da tabela 1 (Criada no codigo), a tabela extras (com os dados ficticios)\n"
     ]
    }
   ],
   "source": [
    "#Juntando duas tabelas\n",
    "import pandas as pd\n",
    "\n",
    "alunos = {\n",
    "'Nome':['Gabriel Valizi','Matheus Vivas','Vinícius Melo'],\n",
    "'Idade':['22','20','22'],\n",
    "'Numero Usp':['118004xx','118577xx','108450xx'],\n",
    "'Ano':['2020','2020','2018']    \n",
    "}\n",
    "df_1 = pd.DataFrame(alunos)\n",
    "df_2 = pd.read_excel('extras.xlsx')\n",
    "\n",
    "df_1 = df_1.append(df_2) \n",
    "#Anexa, ao final da tabela 1 (Criada no codigo), \n",
    "# a tabela extras (com os dados ficticios)\n",
    "print(df_1)\n"
   ]
  },
  {
   "cell_type": "code",
   "execution_count": null,
   "id": "47ad548c",
   "metadata": {},
   "outputs": [],
   "source": []
  }
 ],
 "metadata": {
  "kernelspec": {
   "display_name": "Python 3.10.6 64-bit",
   "language": "python",
   "name": "python3"
  },
  "language_info": {
   "codemirror_mode": {
    "name": "ipython",
    "version": 3
   },
   "file_extension": ".py",
   "mimetype": "text/x-python",
   "name": "python",
   "nbconvert_exporter": "python",
   "pygments_lexer": "ipython3",
   "version": "3.10.6"
  },
  "vscode": {
   "interpreter": {
    "hash": "916dbcbb3f70747c44a77c7bcd40155683ae19c65e1c03b4aa3499c5328201f1"
   }
  }
 },
 "nbformat": 4,
 "nbformat_minor": 5
}
