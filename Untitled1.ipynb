{
  "cells": [
    {
      "cell_type": "code",
      "execution_count": 2,
      "metadata": {
        "trusted": true
      },
      "outputs": [
        {
          "name": "stdout",
          "output_type": "stream",
          "text": [
            "     sepal_length  sepal_width  petal_length  petal_width    species\n",
            "0             5.1          3.5           1.4          0.2         se\n",
            "1             4.9          3.0           1.4          0.2     setosa\n",
            "2             4.7          3.2           1.3          0.2     setosa\n",
            "3             4.6          3.1           1.5          0.2     setosa\n",
            "4             5.0          3.6           1.4          0.2     setosa\n",
            "..            ...          ...           ...          ...        ...\n",
            "145           6.7          3.0           5.2          2.3  virginica\n",
            "146           6.3          2.5           5.0          1.9  virginica\n",
            "147           6.5          3.0           5.2          2.0  virginica\n",
            "148           6.2          3.4           5.4          2.3  virginica\n",
            "149           5.9          3.0           5.1          1.8  virginica\n",
            "\n",
            "[150 rows x 5 columns]\n"
          ]
        }
      ],
      "source": [
        "#Leitura de um arquivo csv \n",
        "\n",
        "import pandas as pd #Importa o Pandas\n",
        "df = pd.read_csv('iris.csv') #Lê um arquivo csv e associa a variavel df\n",
        "print(df) #Printa a variável df/tabela\n"
      ]
    },
    {
      "cell_type": "code",
      "execution_count": 40,
      "metadata": {
        "trusted": true
      },
      "outputs": [
        {
          "name": "stdout",
          "output_type": "stream",
          "text": [
            "    sepal_length species\n",
            "0            5.1      se\n",
            "1            4.9  setosa\n",
            "2            4.7  setosa\n",
            "3            4.6  setosa\n",
            "4            5.0  setosa\n",
            "5            5.4  setosa\n",
            "6            4.6  setosa\n",
            "7            5.0  setosa\n",
            "8            4.4  setosa\n",
            "9            4.9  setosa\n",
            "10           5.4  setosa\n",
            "11           4.8  setosa\n"
          ]
        }
      ],
      "source": [
        "#Leitura de um arquivo csv\n",
        "df = pd.read_csv('iris.csv', usecols = ['sepal_length', 'species']) #Lê e associa apenas as colunas de interesse\n",
        "print(df.head(12)) #Printa apenas os primeiros x elementos da coluna, neste caso, x = 12"
      ]
    },
    {
      "cell_type": "code",
      "execution_count": 43,
      "metadata": {
        "trusted": true
      },
      "outputs": [
        {
          "name": "stdout",
          "output_type": "stream",
          "text": [
            "             Nome Idade Numero Usp Ano de ingresso\n",
            "0  Gabriel Valizi    22   118004xx            2020\n",
            "1   Matheus Vivas    20   118577xx            2020\n",
            "2   Vinícius Melo    22   108450xx            2018\n"
          ]
        }
      ],
      "source": [
        "#Criação de tabela a partir de lista predeterminada\n",
        "\n",
        "#Cria-se uma lista com dados fornecidos\n",
        "#Associa-se às colunas os seus respectivos elementos\n",
        "\n",
        "alunos = {\n",
        "'Nome':['Gabriel Valizi','Matheus Vivas','Vinícius Melo'],\n",
        "'Idade':['22','20','22'],\n",
        "'Numero Usp':['118004xx','118577xx','108450xx'],\n",
        "'Ano de ingresso':['2020','2020','2018']    \n",
        "}\n",
        "\n",
        "df = pd.DataFrame(alunos) #O comando pd.DataFrame organiza os dados em uma tabela \n",
        "print(df)"
      ]
    },
    {
      "cell_type": "code",
      "execution_count": 44,
      "metadata": {
        "trusted": true
      },
      "outputs": [
        {
          "name": "stdout",
          "output_type": "stream",
          "text": [
            "-----Gabriel Valizi-----\n",
            "             Nome Idade Numero Usp Ano de ingresso\n",
            "0  Gabriel Valizi    22   118004xx            2020\n",
            "\n",
            "-----Matheus Vivas-----\n",
            "            Nome Idade Numero Usp Ano de ingresso\n",
            "1  Matheus Vivas    20   118577xx            2020\n",
            "\n",
            "-----Vinícius Melo-----\n",
            "            Nome Idade Numero Usp Ano de ingresso\n",
            "2  Vinícius Melo    22   108450xx            2018\n",
            "\n"
          ]
        }
      ],
      "source": [
        "#Dado um conjunto de dados fornecido, separa-se a tabela pela coluna de interesse (análise indivudal dos itens)\n",
        "\n",
        "alunos = {\n",
        "'Nome':['Gabriel Valizi','Matheus Vivas','Vinícius Melo'],\n",
        "'Idade':['22','20','22'],\n",
        "'Numero Usp':['118004xx','118577xx','108450xx'],\n",
        "'Ano de ingresso':['2020','2020','2018']    \n",
        "}\n",
        "\n",
        "group_df = df.groupby('Nome')\n",
        "for nome, group in group_df:\n",
        "    print(\"-----{}-----\".format(nome))\n",
        "    print(group)\n",
        "    print(\"\")\n",
        "    "
      ]
    },
    {
      "cell_type": "code",
      "execution_count": 45,
      "metadata": {
        "trusted": true
      },
      "outputs": [
        {
          "name": "stdout",
          "output_type": "stream",
          "text": [
            "-----20-----\n",
            "            Nome Idade Numero Usp Ano de ingresso\n",
            "1  Matheus Vivas    20   118577xx            2020\n",
            "\n",
            "-----22-----\n",
            "             Nome Idade Numero Usp Ano de ingresso\n",
            "0  Gabriel Valizi    22   118004xx            2020\n",
            "2   Vinícius Melo    22   108450xx            2018\n",
            "\n"
          ]
        }
      ],
      "source": [
        "#Para o caso das idades, como temos repetição, os dados são agrupados:\n",
        "\n",
        "alunos = {\n",
        "'Nome':['Gabriel Valizi','Matheus Vivas','Vinícius Melo'],\n",
        "'Idade':['22','20','22'],\n",
        "'Numero Usp':['118004xx','118577xx','108450xx'],\n",
        "'Ano de ingresso':['2020','2020','2018']    \n",
        "}\n",
        "\n",
        "group_df = df.groupby('Idade')\n",
        "for nome, group in group_df:\n",
        "    print(\"-----{}-----\".format(nome))\n",
        "    print(group)\n",
        "    print(\"\")\n",
        "    "
      ]
    },
    {
      "cell_type": "code",
      "execution_count": 85,
      "metadata": {
        "trusted": true
      },
      "outputs": [
        {
          "name": "stdout",
          "output_type": "stream",
          "text": [
            "             Nome  Idade Numero Usp   Ano\n",
            "0  Gabriel Valizi     22   118004xx  2020\n",
            "2   Vinícius Melo     22   108450xx  2018\n",
            "-----------\n",
            "             Nome  Idade Numero Usp   Ano\n",
            "0  Gabriel Valizi     22   118004xx  2020\n",
            "1   Matheus Vivas     20   118577xx  2020\n",
            "2   Vinícius Melo     22   108450xx  2018\n",
            "-----------\n",
            "             Nome   Ano\n",
            "0  Gabriel Valizi  2020\n",
            "1   Matheus Vivas  2020\n",
            "2   Vinícius Melo  2018\n",
            "-----------\n",
            "             Nome  Idade Numero Usp   Ano\n",
            "0  Gabriel Valizi     22   118004xx  2020\n",
            "1   Matheus Vivas     20   118577xx  2020\n",
            "-----------\n",
            "             Nome  Idade Numero Usp   Ano\n",
            "0  Gabriel Valizi     22   118004xx  2020\n"
          ]
        }
      ],
      "source": [
        "#Função LOC\n",
        "\n",
        "alunos = {\n",
        "'Nome':['Gabriel Valizi','Matheus Vivas','Vinícius Melo'],\n",
        "'Idade':[22,20,22],\n",
        "'Numero Usp':['118004xx','118577xx','108450xx'],\n",
        "'Ano':[2020,2020,2018]    \n",
        "}\n",
        "df = pd.DataFrame(alunos)    \n",
        "\n",
        "df1 = df.loc[[0,2]] #Seleciona as LINHAS 0 e 2\n",
        "print(df1)\n",
        "print(\"-----------\")\n",
        "df2 = df.loc[0:2] #Seleciona as LINHAS de 0 a 2\n",
        "print(df2)\n",
        "print(\"-----------\")\n",
        "df3 = df.loc[0:2,['Nome','Ano']] #Seleciona Apenas os dados de interesse NOME/ANO DE INGRESSO\n",
        "print(df3)\n",
        "print(\"-----------\")\n",
        "df4 = df.loc[df.Ano > 2019] #Seleciona apenas os casos de interesse, onde ANO DE INGRESSO É POSTERIOR A 2019\n",
        "print(df4)\n",
        "print(\"-----------\")\n",
        "df5 = df.loc[(df.Ano > 2019) & (df.Idade > 20)] #Seleciona os alunos que ENTRARAM DEPOIS DE 2019 e TEM MAIS DE 20 ANOS\n",
        "print(df5)"
      ]
    },
    {
      "cell_type": "code",
      "execution_count": null,
      "metadata": {},
      "outputs": [],
      "source": []
    }
  ],
  "metadata": {
    "kernelspec": {
      "display_name": "Python 3.10.6 64-bit",
      "language": "python",
      "name": "python3"
    },
    "language_info": {
      "codemirror_mode": {
        "name": "python",
        "version": 3
      },
      "file_extension": ".py",
      "mimetype": "text/x-python",
      "name": "python",
      "nbconvert_exporter": "python",
      "pygments_lexer": "ipython3",
      "version": "3.10.6"
    },
    "vscode": {
      "interpreter": {
        "hash": "916dbcbb3f70747c44a77c7bcd40155683ae19c65e1c03b4aa3499c5328201f1"
      }
    }
  },
  "nbformat": 4,
  "nbformat_minor": 4
}
